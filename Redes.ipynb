{
 "cells": [
  {
   "cell_type": "markdown",
   "metadata": {},
   "source": [
    "# Análisis de Redes en *Python*\n",
    "<br>\n",
    "<img src=\"https://miro.medium.com/max/2978/1*rmq7bd3GFjcwfXtkrBQaPQ.png\" alt=\"drawing\" width=\"300\"/>"
   ]
  },
  {
   "cell_type": "markdown",
   "metadata": {},
   "source": [
    "## Software"
   ]
  },
  {
   "cell_type": "markdown",
   "metadata": {},
   "source": [
    "NetworkX es un paquete Python para la creación, manipulación y estudio de la estructura, dinámica y funciones de redes complejas."
   ]
  },
  {
   "cell_type": "code",
   "execution_count": null,
   "metadata": {},
   "outputs": [],
   "source": [
    "#Installation\n",
    "#!conda install networkx"
   ]
  },
  {
   "cell_type": "markdown",
   "metadata": {},
   "source": [
    "<img src=\"https://networkx.org/_static/networkx_logo.svg\" alt=\"drawing\" width=\"300\"/>"
   ]
  },
  {
   "cell_type": "code",
   "execution_count": null,
   "metadata": {},
   "outputs": [],
   "source": [
    "import networkx as nx"
   ]
  },
  {
   "cell_type": "markdown",
   "metadata": {},
   "source": [
    "NetworkX es un paquete muy completo que incluye entre otras cosas:\n",
    "\n",
    "* Estructuras de datos para grafos, dígrafos y multigrafos\n",
    "* Muchos algoritmos estándar\n",
    "* Medidas de análisis\n",
    "* Generadores de grafos clásicos, grafos aleatorios y redes sintéticas\n",
    "\n",
    "NetworkX tiene distintas clases para distintos tipos\n",
    "* Graph: No dirigido, simple\n",
    "* DiGraph: Dirigido, simple\n",
    "* MultiGraph: No dirigido, múltiples aristas paralelas\n",
    "* MultiDiGraph: Dirigido, múltiples aristas\n",
    "\n",
    "NetworkX es versátil por lo que: \n",
    "\n",
    "* Los nodos pueden ser \"cualquier cosa\" (por ejemplo, texto, imágenes, registros XML)\n",
    "* Los aristas pueden contener datos arbitrarios (por ejemplo, pesos, series temporales)"
   ]
  },
  {
   "cell_type": "markdown",
   "metadata": {},
   "source": [
    "## Primeros pasos"
   ]
  },
  {
   "cell_type": "markdown",
   "metadata": {},
   "source": [
    "Existen varias maneras de representar y cargar en grafo a NetworkX, por el momento utilizaremos un grafo precargado en la librería."
   ]
  },
  {
   "cell_type": "code",
   "execution_count": null,
   "metadata": {},
   "outputs": [],
   "source": [
    "karate = nx.karate_club_graph() #Cargar un grafo"
   ]
  },
  {
   "cell_type": "markdown",
   "metadata": {},
   "source": [
    "*Zachary’s Karate Club* representa una red social de un club de karate universitario, \n",
    "descrito en el paper *An Information Flow Model for Conflict and Fission in Small Groups* de Wayne W. Zachary. Es uno de los grafos mas famosos de todos los tiempos."
   ]
  },
  {
   "cell_type": "code",
   "execution_count": null,
   "metadata": {},
   "outputs": [],
   "source": [
    "nx.draw_circular(karate) #Dibujar el grafo"
   ]
  },
  {
   "cell_type": "markdown",
   "metadata": {},
   "source": [
    "### Analisis"
   ]
  },
  {
   "cell_type": "markdown",
   "metadata": {},
   "source": [
    "Numero de Nodos y Aristas"
   ]
  },
  {
   "cell_type": "code",
   "execution_count": null,
   "metadata": {},
   "outputs": [],
   "source": [
    "print(\"\\nNum_Nodes: \"+str(karate.number_of_nodes()),\"\\nNum_Edges: \"+str(karate.number_of_edges()))"
   ]
  },
  {
   "source": [
    "#### Eccentricity\n",
    "\n",
    "La eccentricity de un node v es la máxima distancia de v a todos los demas nodos en G."
   ],
   "cell_type": "markdown",
   "metadata": {}
  },
  {
   "cell_type": "code",
   "execution_count": null,
   "metadata": {},
   "outputs": [],
   "source": [
    "nx.eccentricity(karate)"
   ]
  },
  {
   "cell_type": "markdown",
   "metadata": {},
   "source": [
    "#### Diámetro\n",
    "\n",
    "El Diámetro es la *eccentricity* máxima"
   ]
  },
  {
   "cell_type": "code",
   "execution_count": null,
   "metadata": {},
   "outputs": [],
   "source": [
    "nx.diameter(karate)"
   ]
  },
  {
   "source": [
    "#### Radio\n",
    "\n",
    "El Radio is la *eccentricity* mínima.\n",
    "\n"
   ],
   "cell_type": "markdown",
   "metadata": {}
  },
  {
   "cell_type": "code",
   "execution_count": null,
   "metadata": {},
   "outputs": [],
   "source": [
    "nx.radius(karate)"
   ]
  },
  {
   "source": [
    "#### Grado\n",
    "\n",
    "El grado de nodo es el número de aristas adyacentes al nodo."
   ],
   "cell_type": "markdown",
   "metadata": {}
  },
  {
   "cell_type": "code",
   "execution_count": null,
   "metadata": {},
   "outputs": [],
   "source": [
    "karate.degree()"
   ]
  },
  {
   "source": [
    "### Caminos más cortos (Geodésica)"
   ],
   "cell_type": "markdown",
   "metadata": {}
  },
  {
   "cell_type": "markdown",
   "metadata": {},
   "source": [
    "### Centralidad: ¿Hay nodos más importantes que otros?\n",
    "\n",
    "En teoría de grafos, la centralidad de un nodo es una medidad que determina su importancia relativa dentro del grafo al que pertenece.\n",
    "\n",
    "Las aplicaciones incluyen la identificación de las personas más influyentes en una red social, los nodos de infraestructura clave en Internet y los superdispersores de enfermedades."
   ]
  },
  {
   "source": [
    "#### Degree Centrality\n",
    "\n",
    "El grado de centralidad de un nodo v es la proporción de nodos a los que está conectado."
   ],
   "cell_type": "markdown",
   "metadata": {}
  },
  {
   "source": [
    "La centralidad de grado se define como el número de aristas que inciden en un nodo (es decir, el número de aristas que tiene un nodo). El grado puede interpretarse en términos del riesgo inmediato de un nodo de captar lo que fluye por la red (como un virus o alguna información). En el caso de una red dirigida (en la que los aristas tienen dirección), se suelen definir dos medidas separadas de la centralidad del grado, el ingrado y el exgrado. En consecuencia, el ingrado es un recuento del número de aristas dirigidos al nodo y exgrado es el número de aristas que salen del nodo a otros. "
   ],
   "cell_type": "markdown",
   "metadata": {}
  },
  {
   "cell_type": "code",
   "execution_count": null,
   "metadata": {},
   "outputs": [],
   "source": [
    "nx.degree_centrality(karate)"
   ]
  },
  {
   "source": [
    "#### Closeness Centrality\n",
    "\n",
    "En un gráfico conectado, la centralidad *closeness* normalizada de un nodo es la longitud media del camino más corto entre el nodo y todos los demás nodos del gráfico. Así, cuanto más central es un nodo, más cerca está de todos los demás nodos."
   ],
   "cell_type": "markdown",
   "metadata": {}
  },
  {
   "cell_type": "code",
   "execution_count": null,
   "metadata": {},
   "outputs": [],
   "source": [
    "nx.closeness_centrality(karate)"
   ]
  },
  {
   "source": [
    "#### Betweenness Centrality\n",
    "\n",
    "Betweenness es una medida de centralidad de un nodo dentro de un grafo. La centralidad Betweenness cuantifica el número de veces que un nodo actúa como puente a lo largo del camino más corto entre otros dos nodos. Fue introducida como una medida para cuantificar el dominio de un humano sobre la comunicación entre otros humanos en una red social por Linton Freeman. En su concepción, los nodos que tienen una alta probabilidad de existir en el camino más corto escogido al azar entre dos nodos escogidos al azar tienen una alta betweenness."
   ],
   "cell_type": "markdown",
   "metadata": {}
  },
  {
   "cell_type": "code",
   "execution_count": null,
   "metadata": {},
   "outputs": [],
   "source": [
    "nx.betweenness_centrality(karate)"
   ]
  },
  {
   "source": [
    "#### Page Rank\n",
    "\n",
    "PageRank era un algoritmo usado por Google Search para clasificar las páginas web en los resultados de sus motores de búsqueda. PageRank es una forma de medir la importancia de las páginas web, funciona contando el número y la calidad de los enlaces a una página para determinar una estimación aproximada de la importancia del sitio web. La idea principa es que los sitios web más importantes probablemente reciban más enlaces de otros sitios web. Esta idea puede retomarse y adecuarse a otro tipo de redes."
   ],
   "cell_type": "markdown",
   "metadata": {}
  },
  {
   "cell_type": "code",
   "execution_count": null,
   "metadata": {},
   "outputs": [],
   "source": [
    "nx.pagerank(karate,alpha =0.9)"
   ]
  },
  {
   "cell_type": "markdown",
   "metadata": {},
   "source": [
    "## Construyendo y analizando un grafo: Respuestas a comentarios en Google Classroom"
   ]
  },
  {
   "cell_type": "code",
   "execution_count": null,
   "metadata": {},
   "outputs": [],
   "source": [
    "G = nx.MultiDiGraph() # Grafo dirigido con aristas multiples"
   ]
  },
  {
   "cell_type": "code",
   "execution_count": null,
   "metadata": {},
   "outputs": [],
   "source": [
    "G.add_nodes_from([\"Marisol\",\"Luis\",\"Cristian\",\"Angelica\",\"Samuel\",\"Stephany\",\"Rodrigo\"])"
   ]
  },
  {
   "cell_type": "code",
   "execution_count": null,
   "metadata": {},
   "outputs": [],
   "source": [
    "G.add_edges_from([(\"Samuel\",\"Marisol\"),(\"Marisol\",\"Samuel\"),(\"Stephany\",\"Luis\"),(\"Angelica\",\"Luis\"),(\"Stephany\",\"Luis\"),(\"Rodrigo\",\"Stephany\"),(\"Rodrigo\",\"Angelica\"),(\"Stephany\",\"Marisol\"),(\"Luis\",\"Stephany\"),(\"Cristian\",\"Marisol\"),(\"Cristian\",\"Stephany\"),(\"Samuel\",\"Marisol\"),(\"Samuel\",\"Marisol\"),(\"Marisol\",\"Samuel\"),(\"Samuel\",\"Marisol\"),(\"Samuel\",\"Marisol\"),(\"Stephany\",\"Marisol\"),(\"Samuel\",\"Stephany\"),(\"Cristian\",\"Samuel\"),(\"Cristian\",\"Samuel\"),(\"Samuel\",\"Cristian\"),(\"Angelica\",\"Marisol\"),(\"Samuel\",\"Marisol\"),(\"Samuel\",\"Luis\"),(\"Samuel\",\"Luis\"),(\"Samuel\",\"Luis\"),(\"Samuel\",\"Marisol\"),(\"Angelica\",\"Marisol\"),(\"Stephany\",\"Marisol\"),(\"Marisol\",\"Angelica\"),(\"Marisol\",\"Stephany\"),(\"Rodrigo\",\"Cristian\")])"
   ]
  },
  {
   "cell_type": "code",
   "execution_count": null,
   "metadata": {},
   "outputs": [],
   "source": [
    "import matplotlib.pyplot as plt"
   ]
  },
  {
   "cell_type": "code",
   "execution_count": null,
   "metadata": {},
   "outputs": [],
   "source": [
    "pos = nx.circular_layout(G)\n",
    "nx.draw_networkx_nodes(G,pos,node_size=50)\n",
    "nx.draw_networkx_edges(G,pos,arrowsize=10)\n",
    "nx.draw_networkx_labels(G,pos)\n",
    "plt.show()"
   ]
  },
  {
   "cell_type": "code",
   "execution_count": null,
   "metadata": {},
   "outputs": [],
   "source": [
    "centrality = {k: v for k, v in sorted(nx.degree_centrality(nx.DiGraph(G)).items(), key=lambda item: item[1],reverse=True)} #Solo funciona con Python>=3.7"
   ]
  },
  {
   "cell_type": "code",
   "execution_count": null,
   "metadata": {},
   "outputs": [],
   "source": [
    "centrality"
   ]
  },
  {
   "source": [
    "¿Qué interpretas de estos resultados?"
   ],
   "cell_type": "markdown",
   "metadata": {}
  },
  {
   "source": [
    "# Ahora es tu turno."
   ],
   "cell_type": "markdown",
   "metadata": {}
  },
  {
   "cell_type": "code",
   "execution_count": null,
   "metadata": {},
   "outputs": [],
   "source": [
    "#EuroRoad representa la red de carreteras de Europa"
   ]
  },
  {
   "cell_type": "code",
   "execution_count": null,
   "metadata": {},
   "outputs": [],
   "source": [
    "import pandas as pd"
   ]
  },
  {
   "source": [
    "edgelist = pd.read_csv(\"datasets/euroroad.edges\", sep=' ', header=None, names=[\"target\", \"source\"])"
   ],
   "cell_type": "code",
   "metadata": {},
   "execution_count": null,
   "outputs": []
  },
  {
   "cell_type": "code",
   "execution_count": null,
   "metadata": {},
   "outputs": [],
   "source": [
    "edgelist"
   ]
  },
  {
   "cell_type": "code",
   "execution_count": null,
   "metadata": {},
   "outputs": [],
   "source": [
    "G = nx.from_pandas_edgelist(edgelist)"
   ]
  },
  {
   "cell_type": "code",
   "execution_count": null,
   "metadata": {},
   "outputs": [],
   "source": [
    "pos = nx.fruchterman_reingold_layout(G) #Toma algo de tiempo"
   ]
  },
  {
   "cell_type": "code",
   "execution_count": null,
   "metadata": {},
   "outputs": [],
   "source": [
    "nx.draw_networkx_nodes(G, pos,node_size=10,node_color=\"red\",alpha=0.2)\n",
    "nx.draw_networkx_edges(G, pos,alpha=0.5)\n",
    "plt.title(\"EuroRoad\")\n",
    "plt.show()"
   ]
  },
  {
   "source": [
    "## Reto\n",
    "\n",
    "La famosa compañia de tiendas de conveniencia *XOXO* desea abrir nuevas sucursales en las carreteras de Europa para captar al público viajero y te han contratado como científico de datos para encontrar los mejores lugares en donde abrir las nuevas tiendas. ¿Dónde las pondrías y por qué? Utiliza alguno de los métodos anteriormente vistos en el NoteBook para justificar tu respuesta.\n",
    "\n",
    "Tips:\n",
    "\n",
    "* Recuerda presentar tus resultados de manera en que los ejecutivos de grupo *XOXO* puedan entender facilmente.\n",
    "* Se creativo\n",
    "\n",
    "Hints:\n",
    "\n",
    "* ¿Dónde seria un buen lugar para poner una tienda?\n",
    "* ¿Cómo mido que tan importante es un lugar?"
   ],
   "cell_type": "markdown",
   "metadata": {}
  },
  {
   "cell_type": "code",
   "execution_count": null,
   "metadata": {},
   "outputs": [],
   "source": [
    "# Aquí va tu código"
   ]
  },
  {
   "source": [
    "# Aquí va tu reporte"
   ],
   "cell_type": "code",
   "metadata": {},
   "execution_count": null,
   "outputs": []
  },
  {
   "cell_type": "code",
   "execution_count": null,
   "metadata": {},
   "outputs": [],
   "source": [
    "# Aquí van comentarios o dudas"
   ]
  },
  {
   "cell_type": "code",
   "execution_count": null,
   "metadata": {},
   "outputs": [],
   "source": [
    "# Rodrigo Cortez - rcortez+@+enesmorelia+.unam.mx"
   ]
  }
 ],
 "metadata": {
  "kernelspec": {
   "display_name": "Python 3",
   "language": "python",
   "name": "python3"
  },
  "language_info": {
   "codemirror_mode": {
    "name": "ipython",
    "version": 3
   },
   "file_extension": ".py",
   "mimetype": "text/x-python",
   "name": "python",
   "nbconvert_exporter": "python",
   "pygments_lexer": "ipython3",
   "version": "3.8.3-final"
  }
 },
 "nbformat": 4,
 "nbformat_minor": 4
}